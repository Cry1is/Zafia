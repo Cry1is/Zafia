{
 "cells": [
  {
   "cell_type": "markdown",
   "metadata": {
    "cell_id": "9cde931a7f234afeafb12e6ce3d386e9",
    "deepnote_cell_type": "text-cell-h1",
    "formattedRanges": []
   },
   "source": [
    "# ANLI - BERT"
   ]
  },
  {
   "cell_type": "code",
   "execution_count": 1,
   "metadata": {
    "scrolled": true
   },
   "outputs": [
    {
     "name": "stdout",
     "output_type": "stream",
     "text": [
      "Requirement already satisfied: torch in c:\\users\\zachary\\anaconda3\\lib\\site-packages (2.0.0)\n",
      "Requirement already satisfied: typing-extensions in c:\\users\\zachary\\anaconda3\\lib\\site-packages (from torch) (4.1.1)\n",
      "Requirement already satisfied: networkx in c:\\users\\zachary\\anaconda3\\lib\\site-packages (from torch) (2.7.1)\n",
      "Requirement already satisfied: jinja2 in c:\\users\\zachary\\anaconda3\\lib\\site-packages (from torch) (2.11.3)\n",
      "Requirement already satisfied: filelock in c:\\users\\zachary\\anaconda3\\lib\\site-packages (from torch) (3.6.0)\n",
      "Requirement already satisfied: sympy in c:\\users\\zachary\\anaconda3\\lib\\site-packages (from torch) (1.10.1)\n",
      "Requirement already satisfied: MarkupSafe>=0.23 in c:\\users\\zachary\\anaconda3\\lib\\site-packages (from jinja2->torch) (2.0.1)\n",
      "Requirement already satisfied: mpmath>=0.19 in c:\\users\\zachary\\anaconda3\\lib\\site-packages (from sympy->torch) (1.2.1)\n",
      "Note: you may need to restart the kernel to use updated packages.\n"
     ]
    }
   ],
   "source": [
    "pip install torch"
   ]
  },
  {
   "cell_type": "code",
   "execution_count": 2,
   "metadata": {},
   "outputs": [
    {
     "name": "stdout",
     "output_type": "stream",
     "text": [
      "Requirement already satisfied: pytorch_pretrained_bert in c:\\users\\zachary\\anaconda3\\lib\\site-packages (0.6.2)\n",
      "Requirement already satisfied: boto3 in c:\\users\\zachary\\anaconda3\\lib\\site-packages (from pytorch_pretrained_bert) (1.21.32)\n",
      "Requirement already satisfied: numpy in c:\\users\\zachary\\anaconda3\\lib\\site-packages (from pytorch_pretrained_bert) (1.21.5)\n",
      "Requirement already satisfied: requests in c:\\users\\zachary\\anaconda3\\lib\\site-packages (from pytorch_pretrained_bert) (2.27.1)\n",
      "Requirement already satisfied: tqdm in c:\\users\\zachary\\anaconda3\\lib\\site-packages (from pytorch_pretrained_bert) (4.64.0)\n",
      "Requirement already satisfied: torch>=0.4.1 in c:\\users\\zachary\\anaconda3\\lib\\site-packages (from pytorch_pretrained_bert) (2.0.0)\n",
      "Requirement already satisfied: regex in c:\\users\\zachary\\anaconda3\\lib\\site-packages (from pytorch_pretrained_bert) (2022.3.15)Note: you may need to restart the kernel to use updated packages.\n",
      "Requirement already satisfied: typing-extensions in c:\\users\\zachary\\anaconda3\\lib\\site-packages (from torch>=0.4.1->pytorch_pretrained_bert) (4.1.1)\n",
      "Requirement already satisfied: networkx in c:\\users\\zachary\\anaconda3\\lib\\site-packages (from torch>=0.4.1->pytorch_pretrained_bert) (2.7.1)\n",
      "Requirement already satisfied: sympy in c:\\users\\zachary\\anaconda3\\lib\\site-packages (from torch>=0.4.1->pytorch_pretrained_bert) (1.10.1)\n",
      "Requirement already satisfied: filelock in c:\\users\\zachary\\anaconda3\\lib\\site-packages (from torch>=0.4.1->pytorch_pretrained_bert) (3.6.0)\n",
      "Requirement already satisfied: jinja2 in c:\\users\\zachary\\anaconda3\\lib\\site-packages (from torch>=0.4.1->pytorch_pretrained_bert) (2.11.3)\n",
      "\n",
      "Requirement already satisfied: s3transfer<0.6.0,>=0.5.0 in c:\\users\\zachary\\anaconda3\\lib\\site-packages (from boto3->pytorch_pretrained_bert) (0.5.0)\n",
      "Requirement already satisfied: botocore<1.25.0,>=1.24.32 in c:\\users\\zachary\\anaconda3\\lib\\site-packages (from boto3->pytorch_pretrained_bert) (1.24.32)\n",
      "Requirement already satisfied: jmespath<2.0.0,>=0.7.1 in c:\\users\\zachary\\anaconda3\\lib\\site-packages (from boto3->pytorch_pretrained_bert) (0.10.0)\n",
      "Requirement already satisfied: python-dateutil<3.0.0,>=2.1 in c:\\users\\zachary\\anaconda3\\lib\\site-packages (from botocore<1.25.0,>=1.24.32->boto3->pytorch_pretrained_bert) (2.8.2)\n",
      "Requirement already satisfied: urllib3<1.27,>=1.25.4 in c:\\users\\zachary\\anaconda3\\lib\\site-packages (from botocore<1.25.0,>=1.24.32->boto3->pytorch_pretrained_bert) (1.26.9)\n",
      "Requirement already satisfied: six>=1.5 in c:\\users\\zachary\\anaconda3\\lib\\site-packages (from python-dateutil<3.0.0,>=2.1->botocore<1.25.0,>=1.24.32->boto3->pytorch_pretrained_bert) (1.16.0)\n",
      "Requirement already satisfied: MarkupSafe>=0.23 in c:\\users\\zachary\\anaconda3\\lib\\site-packages (from jinja2->torch>=0.4.1->pytorch_pretrained_bert) (2.0.1)\n",
      "Requirement already satisfied: idna<4,>=2.5 in c:\\users\\zachary\\anaconda3\\lib\\site-packages (from requests->pytorch_pretrained_bert) (3.3)\n",
      "Requirement already satisfied: certifi>=2017.4.17 in c:\\users\\zachary\\anaconda3\\lib\\site-packages (from requests->pytorch_pretrained_bert) (2021.10.8)\n",
      "Requirement already satisfied: charset-normalizer~=2.0.0 in c:\\users\\zachary\\anaconda3\\lib\\site-packages (from requests->pytorch_pretrained_bert) (2.0.4)\n",
      "Requirement already satisfied: mpmath>=0.19 in c:\\users\\zachary\\anaconda3\\lib\\site-packages (from sympy->torch>=0.4.1->pytorch_pretrained_bert) (1.2.1)\n",
      "Requirement already satisfied: colorama in c:\\users\\zachary\\anaconda3\\lib\\site-packages (from tqdm->pytorch_pretrained_bert) (0.4.4)\n"
     ]
    }
   ],
   "source": [
    "pip install pytorch_pretrained_bert"
   ]
  },
  {
   "cell_type": "code",
   "execution_count": 3,
   "metadata": {},
   "outputs": [
    {
     "name": "stdout",
     "output_type": "stream",
     "text": [
      "Package                       Version\n",
      "----------------------------- --------------------\n",
      "aiohttp                       3.8.1\n",
      "aiosignal                     1.2.0\n",
      "alabaster                     0.7.12\n",
      "anaconda-client               1.9.0\n",
      "anaconda-navigator            2.2.0\n",
      "anaconda-project              0.10.2\n",
      "anyio                         3.5.0\n",
      "appdirs                       1.4.4\n",
      "argon2-cffi                   21.3.0\n",
      "argon2-cffi-bindings          21.2.0\n",
      "arrow                         1.2.2\n",
      "astroid                       2.6.6\n",
      "astropy                       5.0.4\n",
      "asttokens                     2.0.5\n",
      "async-timeout                 4.0.1\n",
      "atomicwrites                  1.4.0\n",
      "attrs                         21.4.0\n",
      "Automat                       20.2.0\n",
      "autopep8                      1.6.0\n",
      "Babel                         2.9.1\n",
      "backcall                      0.2.0\n",
      "backports.functools-lru-cache 1.6.4\n",
      "backports.tempfile            1.0\n",
      "backports.weakref             1.0.post1\n",
      "bcrypt                        3.2.0\n",
      "beautifulsoup4                4.11.1\n",
      "binaryornot                   0.4.4\n",
      "bitarray                      2.4.1\n",
      "bkcharts                      0.2\n",
      "black                         19.10b0\n",
      "bleach                        4.1.0\n",
      "bokeh                         2.4.2\n",
      "boto3                         1.21.32\n",
      "botocore                      1.24.32\n",
      "Bottleneck                    1.3.4\n",
      "brotlipy                      0.7.0\n",
      "cachetools                    4.2.2\n",
      "certifi                       2021.10.8\n",
      "cffi                          1.15.0\n",
      "Note: you may need to restart the kernel to use updated packages.\n",
      "chardet                       4.0.0\n",
      "charset-normalizer            2.0.4\n",
      "click                         8.0.4\n",
      "cloudpickle                   2.0.0\n",
      "clyent                        1.2.2\n",
      "colorama                      0.4.4\n",
      "colorcet                      2.0.6\n",
      "comtypes                      1.1.10\n",
      "conda                         4.14.0\n",
      "conda-build                   3.21.8\n",
      "conda-content-trust           0+unknown\n",
      "conda-pack                    0.6.0\n",
      "conda-package-handling        1.8.1\n",
      "conda-repo-cli                1.0.4\n",
      "conda-token                   0.3.0\n",
      "conda-verify                  3.4.2\n",
      "constantly                    15.1.0\n",
      "cookiecutter                  1.7.3\n",
      "cryptography                  3.4.8\n",
      "cssselect                     1.1.0\n",
      "cycler                        0.11.0\n",
      "Cython                        0.29.28\n",
      "cytoolz                       0.11.0\n",
      "daal4py                       2021.5.0\n",
      "dask                          2022.2.1\n",
      "datasets                      2.12.0\n",
      "datashader                    0.13.0\n",
      "datashape                     0.5.4\n",
      "debugpy                       1.5.1\n",
      "decorator                     5.1.1\n",
      "defusedxml                    0.7.1\n",
      "diff-match-patch              20200713\n",
      "dill                          0.3.6\n",
      "distributed                   2022.2.1\n",
      "docutils                      0.17.1\n",
      "entrypoints                   0.4\n",
      "et-xmlfile                    1.1.0\n",
      "executing                     0.8.3\n",
      "fastjsonschema                2.15.1\n",
      "filelock                      3.6.0\n",
      "flake8                        3.9.2\n",
      "Flask                         1.1.2\n",
      "fonttools                     4.25.0\n",
      "frozenlist                    1.2.0\n",
      "fsspec                        2022.2.0\n",
      "future                        0.18.2\n",
      "gensim                        4.1.2\n",
      "glob2                         0.7\n",
      "google-api-core               1.25.1\n",
      "google-auth                   1.33.0\n",
      "google-cloud-core             1.7.1\n",
      "google-cloud-storage          1.31.0\n",
      "google-crc32c                 1.1.2\n",
      "google-resumable-media        1.3.1\n",
      "googleapis-common-protos      1.53.0\n",
      "greenlet                      1.1.1\n",
      "grpcio                        1.42.0\n",
      "h5py                          3.6.0\n",
      "HeapDict                      1.0.1\n",
      "holoviews                     1.14.8\n",
      "huggingface-hub               0.14.1\n",
      "hvplot                        0.7.3\n",
      "hyperlink                     21.0.0\n",
      "idna                          3.3\n",
      "imagecodecs                   2021.8.26\n",
      "imageio                       2.9.0\n",
      "imagesize                     1.3.0\n",
      "importlib-metadata            4.11.3\n",
      "incremental                   21.3.0\n",
      "inflection                    0.5.1\n",
      "iniconfig                     1.1.1\n",
      "intake                        0.6.5\n",
      "intervaltree                  3.1.0\n",
      "ipykernel                     6.9.1\n",
      "ipython                       8.2.0\n",
      "ipython-genutils              0.2.0\n",
      "ipywidgets                    7.6.5\n",
      "isort                         5.9.3\n",
      "itemadapter                   0.3.0\n",
      "itemloaders                   1.0.4\n",
      "itsdangerous                  2.0.1\n",
      "jdcal                         1.4.1\n",
      "jedi                          0.18.1\n",
      "Jinja2                        2.11.3\n",
      "jinja2-time                   0.2.0\n",
      "jmespath                      0.10.0"
     ]
    }
   ],
   "source": [
    "pip list"
   ]
  },
  {
   "cell_type": "code",
   "execution_count": 4,
   "metadata": {
    "cell_id": "a6d7a0ecc59e4219a74a8f4a9c2c437a",
    "deepnote_cell_type": "code",
    "deepnote_to_be_reexecuted": false,
    "execution_millis": 11573,
    "execution_start": 1682702772849,
    "scrolled": true,
    "source_hash": "b457949f"
   },
   "outputs": [
    {
     "name": "stdout",
     "output_type": "stream",
     "text": [
      "\n",
      "joblib                        1.1.0\n",
      "json5                         0.9.6\n",
      "jsonschema                    4.4.0\n",
      "jupyter                       1.0.0\n",
      "jupyter-client                6.1.12\n",
      "jupyter-console               6.4.0\n",
      "jupyter-core                  4.9.2\n",
      "jupyter-server                1.13.5\n",
      "jupyterlab                    3.3.2\n",
      "jupyterlab-pygments           0.1.2\n",
      "jupyterlab-server             2.10.3\n",
      "jupyterlab-widgets            1.0.0\n",
      "keyring                       23.4.0\n",
      "kiwisolver                    1.3.2\n",
      "lazy-object-proxy             1.6.0\n",
      "libarchive-c                  2.9\n",
      "llvmlite                      0.38.0\n",
      "locket                        0.2.1\n",
      "lxml                          4.8.0\n",
      "Markdown                      3.3.4\n",
      "MarkupSafe                    2.0.1\n",
      "matplotlib                    3.5.1\n",
      "matplotlib-inline             0.1.2\n",
      "mccabe                        0.6.1\n",
      "menuinst                      1.4.18\n",
      "mistune                       0.8.4\n",
      "mkl-fft                       1.3.1\n",
      "mkl-random                    1.2.2\n",
      "mkl-service                   2.4.0\n",
      "mock                          4.0.3\n",
      "mpmath                        1.2.1\n",
      "msgpack                       1.0.2\n",
      "multidict                     5.1.0\n",
      "multipledispatch              0.6.0\n",
      "multiprocess                  0.70.14\n",
      "munkres                       1.1.4\n",
      "mypy-extensions               0.4.3\n",
      "navigator-updater             0.2.1\n",
      "nbclassic                     0.3.5\n",
      "nbclient                      0.5.13\n",
      "nbconvert                     6.4.4\n",
      "nbformat                      5.3.0\n",
      "nest-asyncio                  1.5.5\n",
      "networkx                      2.7.1\n",
      "nltk                          3.7\n",
      "nose                          1.3.7\n",
      "notebook                      6.4.8\n",
      "numba                         0.55.1\n",
      "numexpr                       2.8.1\n",
      "numpy                         1.21.5\n",
      "numpydoc                      1.2\n",
      "olefile                       0.46\n",
      "openpyxl                      3.0.9\n",
      "packaging                     21.3\n",
      "pandas                        1.4.2\n",
      "pandocfilters                 1.5.0\n",
      "panel                         0.13.0\n",
      "param                         1.12.0\n",
      "paramiko                      2.8.1\n",
      "parsel                        1.6.0\n",
      "parso                         0.8.3\n",
      "partd                         1.2.0\n",
      "pathspec                      0.7.0\n",
      "patsy                         0.5.2\n",
      "pep8                          1.7.1\n",
      "pexpect                       4.8.0\n",
      "pickleshare                   0.7.5\n",
      "Pillow                        9.0.1\n",
      "pip                           21.2.4\n",
      "pkginfo                       1.8.2\n",
      "plotly                        5.6.0\n",
      "pluggy                        1.0.0\n",
      "poyo                          0.5.0\n",
      "prometheus-client             0.13.1\n",
      "prompt-toolkit                3.0.20\n",
      "Protego                       0.1.16\n",
      "protobuf                      3.19.1\n",
      "psutil                        5.8.0\n",
      "ptyprocess                    0.7.0\n",
      "pure-eval                     0.2.2\n",
      "py                            1.11.0\n",
      "pyarrow                       11.0.0\n",
      "pyasn1                        0.4.8\n",
      "pyasn1-modules                0.2.8\n",
      "pycodestyle                   2.7.0\n",
      "pycosat                       0.6.3\n",
      "pycparser                     2.21\n",
      "pyct                          0.4.6\n",
      "pycurl                        7.44.1\n",
      "PyDispatcher                  2.0.5\n",
      "pydocstyle                    6.1.1\n",
      "pyerfa                        2.0.0\n",
      "pyflakes                      2.3.1\n",
      "Pygments                      2.11.2\n",
      "PyHamcrest                    2.0.2\n",
      "PyJWT                         2.1.0\n",
      "pylint                        2.9.6\n",
      "pyls-spyder                   0.4.0\n",
      "PyNaCl                        1.4.0\n",
      "pyodbc                        4.0.32\n",
      "pyOpenSSL                     21.0.0\n",
      "pyparsing                     3.0.4\n",
      "pyreadline                    2.1\n",
      "pyrsistent                    0.18.0\n",
      "PySocks                       1.7.1\n",
      "pytest                        7.1.1\n",
      "python-dateutil               2.8.2\n",
      "python-lsp-black              1.0.0\n",
      "python-lsp-jsonrpc            1.0.0\n",
      "python-lsp-server             1.2.4\n",
      "python-slugify                5.0.2\n",
      "python-snappy                 0.6.0\n",
      "pytorch-pretrained-bert       0.6.2\n",
      "pytz                          2021.3\n",
      "pyviz-comms                   2.0.2\n",
      "PyWavelets                    1.3.0\n",
      "pywin32                       302\n",
      "pywin32-ctypes                0.2.0\n",
      "pywinpty                      2.0.2\n",
      "PyYAML                        6.0\n",
      "pyzmq                         22.3.0\n",
      "QDarkStyle                    3.0.2\n",
      "qstylizer                     0.1.10\n",
      "QtAwesome                     1.0.3\n",
      "qtconsole                     5.3.0\n",
      "QtPy                          2.0.1\n",
      "queuelib                      1.5.0\n",
      "regex                         2022.3.15\n",
      "requests                      2.27.1\n",
      "requests-file                 1.5.1\n",
      "responses                     0.18.0\n",
      "rope                          0.22.0\n",
      "rsa                           4.7.2\n",
      "Rtree                         0.9.7\n",
      "ruamel-yaml-conda             0.15.100\n",
      "s3transfer                    0.5.0\n",
      "scikit-image                  0.19.2\n",
      "scikit-learn                  1.0.2\n",
      "scikit-learn-intelex          2021.20220215.102710\n",
      "scipy                         1.7.3\n",
      "Scrapy                        2.6.1\n",
      "seaborn                       0.11.2\n",
      "Send2Trash                    1.8.0\n",
      "service-identity              18.1.0\n",
      "setuptools                    61.2.0\n",
      "sip                           4.19.13\n",
      "six                           1.16.0\n",
      "smart-open                    5.1.0\n",
      "sniffio                       1.2.0\n",
      "snowballstemmer               2.2.0\n",
      "sortedcollections             2.1.0\n",
      "sortedcontainers              2.4.0\n",
      "soupsieve                     2.3.1\n",
      "Sphinx                        4.4.0\n",
      "sphinxcontrib-applehelp       1.0.2\n",
      "sphinxcontrib-devhelp         1.0.2\n",
      "sphinxcontrib-htmlhelp        2.0.0\n",
      "sphinxcontrib-jsmath          1.0.1\n",
      "sphinxcontrib-qthelp          1.0.3\n",
      "sphinxcontrib-serializinghtml 1.1.5\n",
      "spyder                        5.1.5\n",
      "spyder-kernels                2.1.3\n",
      "SQLAlchemy                    1.4.32\n",
      "stack-data                    0.2.0\n",
      "statsmodels                   0.13.2\n",
      "sympy                         1.10.1\n",
      "tables                        3.6.1\n",
      "tabulate                      0.8.9\n",
      "TBB                           0.2\n",
      "tblib                         1.7.0\n",
      "tenacity                      8.0.1\n",
      "terminado                     0.13.1\n",
      "testpath                      0.5.0\n",
      "text-unidecode                1.3\n",
      "textdistance                  4.2.1\n",
      "threadpoolctl                 2.2.0\n",
      "three-merge                   0.1.1\n",
      "tifffile                      2021.7.2\n",
      "tinycss                       0.4\n",
      "tldextract                    3.2.0\n",
      "toml                          0.10.2\n",
      "tomli                         1.2.2\n",
      "toolz                         0.11.2\n",
      "torch                         2.0.0\n",
      "tornado                       6.1\n",
      "tqdm                          4.64.0\n",
      "traitlets                     5.1.1\n",
      "Twisted                       22.2.0\n",
      "twisted-iocpsupport           1.0.2\n",
      "typed-ast                     1.4.3\n",
      "typing_extensions             4.1.1\n",
      "ujson                         5.1.0\n",
      "Unidecode                     1.2.0\n",
      "urllib3                       1.26.9\n",
      "w3lib                         1.21.0\n",
      "watchdog                      2.1.6\n",
      "wcwidth                       0.2.5\n",
      "webencodings                  0.5.1\n",
      "websocket-client              0.58.0\n",
      "Werkzeug                      2.0.3\n",
      "wheel                         0.37.1\n",
      "widgetsnbextension            3.5.2\n",
      "win-inet-pton                 1.1.0\n",
      "win-unicode-console           0.5\n",
      "wincertstore                  0.2\n",
      "wrapt                         1.12.1\n",
      "xarray                        0.20.1\n",
      "xlrd                          2.0.1\n",
      "XlsxWriter                    3.0.3\n",
      "xlwings                       0.24.9\n",
      "xxhash                        3.2.0\n",
      "yapf                          0.31.0\n",
      "yarl                          1.6.3\n",
      "zict                          2.0.0\n",
      "zipp                          3.7.0\n",
      "zope.interface                5.4.0\n"
     ]
    },
    {
     "name": "stderr",
     "output_type": "stream",
     "text": [
      "Found cached dataset anli (C:/Users/Zachary/.cache/huggingface/datasets/anli/plain_text/0.1.0/aabce88453b06dff21c201855ea83283bab0390bff746deadb30b65695755c0b)\n"
     ]
    },
    {
     "data": {
      "application/vnd.jupyter.widget-view+json": {
       "model_id": "56e77decadf94f4c99967bfc837ca9d3",
       "version_major": 2,
       "version_minor": 0
      },
      "text/plain": [
       "  0%|          | 0/9 [00:00<?, ?it/s]"
      ]
     },
     "metadata": {},
     "output_type": "display_data"
    }
   ],
   "source": [
    "import pandas as pd\n",
    "from datasets import load_dataset\n",
    "from sklearn.preprocessing import LabelEncoder\n",
    "from sklearn.model_selection import train_test_split\n",
    "\n",
    "# load datasets and convert them into dataframes\n",
    "dataset = load_dataset('anli')\n",
    "train_r1 = pd.DataFrame(dataset['train_r1'])\n",
    "dev_r1 = pd.DataFrame(dataset['dev_r1'])\n",
    "test_r1 = pd.DataFrame(dataset['test_r1'])\n",
    "train_r2 = pd.DataFrame(dataset['train_r1'])\n",
    "dev_r2 = pd.DataFrame(dataset['dev_r2'])\n",
    "test_r2 = pd.DataFrame(dataset['test_r2'])\n",
    "train_r3 = pd.DataFrame(dataset['train_r3'])\n",
    "dev_r3 = pd.DataFrame(dataset['dev_r3'])\n",
    "test_r3 = pd.DataFrame(dataset['test_r3'])"
   ]
  },
  {
   "cell_type": "markdown",
   "metadata": {
    "cell_id": "0995f7f942bb46d993211640a7be90a0",
    "deepnote_cell_type": "text-cell-p",
    "formattedRanges": [
     {
      "fromCodePoint": 0,
      "ranges": [],
      "toCodePoint": 102,
      "type": "link",
      "url": "https://medium.com/@samia.khalid/bert-explained-a-complete-guide-with-theory-and-tutorial-3ac9ebc8fa7c"
     }
    ]
   },
   "source": [
    "https://medium.com/@samia.khalid/bert-explained-a-complete-guide-with-theory-and-tutorial-3ac9ebc8fa7c"
   ]
  },
  {
   "cell_type": "code",
   "execution_count": 5,
   "metadata": {
    "cell_id": "b1f5db0cb46e4ac79b5ed926ce1dbae6",
    "deepnote_cell_type": "code",
    "deepnote_to_be_reexecuted": false,
    "execution_millis": 1,
    "execution_start": 1682702784486,
    "source_hash": "aa23e097"
   },
   "outputs": [],
   "source": [
    "def convert_to_bert(df):\n",
    "    new_df = {'id': df['uid'], 'label': df['label'], 'text_a': 'a', 'text_b': df['hypothesis'] + df['premise']}\n",
    "    return pd.DataFrame(data=new_df)\n",
    "    "
   ]
  },
  {
   "cell_type": "code",
   "execution_count": 6,
   "metadata": {
    "cell_id": "02e2854c0d9449e0a19a891c0520baee",
    "deepnote_cell_type": "code",
    "deepnote_to_be_reexecuted": false,
    "execution_millis": 243,
    "execution_start": 1682702784486,
    "source_hash": "5cb1761e"
   },
   "outputs": [
    {
     "data": {
      "text/html": [
       "<div>\n",
       "<style scoped>\n",
       "    .dataframe tbody tr th:only-of-type {\n",
       "        vertical-align: middle;\n",
       "    }\n",
       "\n",
       "    .dataframe tbody tr th {\n",
       "        vertical-align: top;\n",
       "    }\n",
       "\n",
       "    .dataframe thead th {\n",
       "        text-align: right;\n",
       "    }\n",
       "</style>\n",
       "<table border=\"1\" class=\"dataframe\">\n",
       "  <thead>\n",
       "    <tr style=\"text-align: right;\">\n",
       "      <th></th>\n",
       "      <th>id</th>\n",
       "      <th>label</th>\n",
       "      <th>text_a</th>\n",
       "      <th>text_b</th>\n",
       "    </tr>\n",
       "  </thead>\n",
       "  <tbody>\n",
       "    <tr>\n",
       "      <th>0</th>\n",
       "      <td>0fd0abfb-659e-4453-b196-c3a64d2d8267</td>\n",
       "      <td>0</td>\n",
       "      <td>a</td>\n",
       "      <td>The trolleybus system has over 2 urban routesT...</td>\n",
       "    </tr>\n",
       "    <tr>\n",
       "      <th>1</th>\n",
       "      <td>7ed72ff4-40b7-4f8a-b1b9-6c612aa62c84</td>\n",
       "      <td>1</td>\n",
       "      <td>a</td>\n",
       "      <td>Sharron Macready was a popular character throu...</td>\n",
       "    </tr>\n",
       "    <tr>\n",
       "      <th>2</th>\n",
       "      <td>5d2930a3-62ac-485d-94d7-4e36cbbcd7b5</td>\n",
       "      <td>1</td>\n",
       "      <td>a</td>\n",
       "      <td>Bastedo didn't keep any pets because of her vi...</td>\n",
       "    </tr>\n",
       "    <tr>\n",
       "      <th>3</th>\n",
       "      <td>324db753-ddc9-4a85-a825-f09e2e5aebdd</td>\n",
       "      <td>1</td>\n",
       "      <td>a</td>\n",
       "      <td>Alexandra Bastedo was named by her mother.Alex...</td>\n",
       "    </tr>\n",
       "    <tr>\n",
       "      <th>4</th>\n",
       "      <td>4874f429-da0e-406a-90c7-22240ff3ddf8</td>\n",
       "      <td>1</td>\n",
       "      <td>a</td>\n",
       "      <td>Bastedo cared for all the animals that inhabit...</td>\n",
       "    </tr>\n",
       "    <tr>\n",
       "      <th>...</th>\n",
       "      <td>...</td>\n",
       "      <td>...</td>\n",
       "      <td>...</td>\n",
       "      <td>...</td>\n",
       "    </tr>\n",
       "    <tr>\n",
       "      <th>16941</th>\n",
       "      <td>4fd39082-f2af-4ff6-be57-57006e8fa1a5</td>\n",
       "      <td>2</td>\n",
       "      <td>a</td>\n",
       "      <td>The KNVB cup trophy was awarded to Heerenveen....</td>\n",
       "    </tr>\n",
       "    <tr>\n",
       "      <th>16942</th>\n",
       "      <td>9e8dab34-cea4-4c8d-8031-d764a92abf1b</td>\n",
       "      <td>2</td>\n",
       "      <td>a</td>\n",
       "      <td>20th Century Fox Television is the syndication...</td>\n",
       "    </tr>\n",
       "    <tr>\n",
       "      <th>16943</th>\n",
       "      <td>67e9c278-fb8d-4ea6-938d-8cafa9133754</td>\n",
       "      <td>2</td>\n",
       "      <td>a</td>\n",
       "      <td>Olivier Rochus always plays with a partner.Oli...</td>\n",
       "    </tr>\n",
       "    <tr>\n",
       "      <th>16944</th>\n",
       "      <td>83d3f5fc-29b1-40c7-8a34-1bb827c6fea3</td>\n",
       "      <td>2</td>\n",
       "      <td>a</td>\n",
       "      <td>Liisi Rist (born 26 June 1991) is an Estonian ...</td>\n",
       "    </tr>\n",
       "    <tr>\n",
       "      <th>16945</th>\n",
       "      <td>68ccbf83-6abc-405f-87a9-29b31f713512</td>\n",
       "      <td>2</td>\n",
       "      <td>a</td>\n",
       "      <td>3 Mills Studios was established in 1981.The si...</td>\n",
       "    </tr>\n",
       "  </tbody>\n",
       "</table>\n",
       "<p>16946 rows × 4 columns</p>\n",
       "</div>"
      ],
      "text/plain": [
       "                                         id  label text_a  \\\n",
       "0      0fd0abfb-659e-4453-b196-c3a64d2d8267      0      a   \n",
       "1      7ed72ff4-40b7-4f8a-b1b9-6c612aa62c84      1      a   \n",
       "2      5d2930a3-62ac-485d-94d7-4e36cbbcd7b5      1      a   \n",
       "3      324db753-ddc9-4a85-a825-f09e2e5aebdd      1      a   \n",
       "4      4874f429-da0e-406a-90c7-22240ff3ddf8      1      a   \n",
       "...                                     ...    ...    ...   \n",
       "16941  4fd39082-f2af-4ff6-be57-57006e8fa1a5      2      a   \n",
       "16942  9e8dab34-cea4-4c8d-8031-d764a92abf1b      2      a   \n",
       "16943  67e9c278-fb8d-4ea6-938d-8cafa9133754      2      a   \n",
       "16944  83d3f5fc-29b1-40c7-8a34-1bb827c6fea3      2      a   \n",
       "16945  68ccbf83-6abc-405f-87a9-29b31f713512      2      a   \n",
       "\n",
       "                                                  text_b  \n",
       "0      The trolleybus system has over 2 urban routesT...  \n",
       "1      Sharron Macready was a popular character throu...  \n",
       "2      Bastedo didn't keep any pets because of her vi...  \n",
       "3      Alexandra Bastedo was named by her mother.Alex...  \n",
       "4      Bastedo cared for all the animals that inhabit...  \n",
       "...                                                  ...  \n",
       "16941  The KNVB cup trophy was awarded to Heerenveen....  \n",
       "16942  20th Century Fox Television is the syndication...  \n",
       "16943  Olivier Rochus always plays with a partner.Oli...  \n",
       "16944  Liisi Rist (born 26 June 1991) is an Estonian ...  \n",
       "16945  3 Mills Studios was established in 1981.The si...  \n",
       "\n",
       "[16946 rows x 4 columns]"
      ]
     },
     "execution_count": 6,
     "metadata": {},
     "output_type": "execute_result"
    }
   ],
   "source": [
    "bert_train_r1 = convert_to_bert(train_r1)\n",
    "bert_dev_r1 = convert_to_bert(dev_r1)\n",
    "bert_test_r1 = convert_to_bert(test_r1)\n",
    "\n",
    "bert_train_r2 = convert_to_bert(train_r2)\n",
    "bert_dev_r2 = convert_to_bert(dev_r2)\n",
    "bert_test_r2 = convert_to_bert(test_r2)\n",
    "\n",
    "bert_train_r3 = convert_to_bert(train_r3)\n",
    "bert_dev_r3 = convert_to_bert(dev_r3)\n",
    "bert_test_r3 = convert_to_bert(test_r3)\n",
    "bert_train_r1"
   ]
  },
  {
   "cell_type": "code",
   "execution_count": null,
   "metadata": {
    "cell_id": "a20dcbe26c2742d8a83e98b492e801d8",
    "deepnote_cell_type": "visualization",
    "deepnote_config_collapsed": true,
    "deepnote_to_be_reexecuted": false,
    "deepnote_variable_name": "bert_train_r1",
    "deepnote_visualization_spec": {
     "$schema": "https://vega.github.io/schema/vega-lite/v5.json",
     "config": {
      "customFormatTypes": true
     },
     "encoding": {
      "color": {
       "field": "",
       "format": {
        "decimals": null,
        "type": "default"
       },
       "scale": {
        "type": "linear"
       },
       "sort": null,
       "type": "nominal"
      },
      "x": {
       "field": "",
       "format": {
        "decimals": null,
        "type": "default"
       },
       "scale": {
        "type": "linear"
       },
       "sort": null,
       "type": "nominal"
      },
      "y": {
       "field": "",
       "format": {
        "decimals": null,
        "type": "default"
       },
       "scale": {
        "type": "linear"
       },
       "sort": null,
       "type": "nominal"
      }
     },
     "height": "container",
     "mark": {
      "tooltip": true,
      "type": "bar"
     },
     "width": "container"
    },
    "execution_millis": 915,
    "execution_start": 1682702784784,
    "source_hash": "9764d215"
   },
   "outputs": [],
   "source": []
  },
  {
   "cell_type": "code",
   "execution_count": 7,
   "metadata": {
    "cell_id": "f853eea366d64e07a23af6ddfe325140",
    "deepnote_cell_type": "code",
    "deepnote_to_be_reexecuted": false,
    "execution_millis": 1556,
    "execution_start": 1682702785625,
    "source_hash": "4c28bb1d"
   },
   "outputs": [],
   "source": [
    "# bert_train_r1.to_csv('train.tsv', sep=\"\\t\", header=None, index=False)\n",
    "bert_dev_r1.to_csv('bert_dev_r1.tsv', sep=\"\\t\", header=None, index=False)\n",
    "bert_test_r1.to_csv('test.tsv', sep=\"\\t\", index=False)\n",
    "\n",
    "bert_train_r2.to_csv('bert_train_r2.tsv', sep=\"\\t\", header=None, index=False)\n",
    "bert_dev_r2.to_csv('bert_dev_r2.tsv', sep=\"\\t\", header=None, index=False)\n",
    "bert_test_r2.to_csv('bert_test_r2.tsv', sep=\"\\t\", index=False)\n",
    "\n",
    "bert_train_r3.to_csv('bert_train_r3.tsv', sep=\"\\t\", header=None, index=False)\n",
    "bert_dev_r3.to_csv('bert_dev_r3.tsv', sep=\"\\t\", header=None, index=False)\n",
    "bert_test_r3.to_csv('bert_test_r3.tsv', sep=\"\\t\", index=False)"
   ]
  },
  {
   "cell_type": "code",
   "execution_count": 8,
   "metadata": {
    "cell_id": "53799f69bf0442bdb79e55db264877dc",
    "deepnote_cell_type": "code",
    "deepnote_to_be_reexecuted": false,
    "execution_millis": 1693,
    "execution_start": 1682702787187,
    "source_hash": "744b2633"
   },
   "outputs": [],
   "source": [
    "import torch\n",
    "import pickle\n",
    "from torch.utils.data import (DataLoader, RandomSampler, SequentialSampler, TensorDataset)\n",
    "from torch.nn import CrossEntropyLoss, MSELoss\n",
    "\n",
    "from tqdm import tqdm_notebook, trange\n",
    "import os\n",
    "from pytorch_pretrained_bert import BertTokenizer, BertModel, BertForMaskedLM, BertForSequenceClassification\n",
    "from pytorch_pretrained_bert.optimization import BertAdam, WarmupLinearSchedule\n",
    "\n",
    "from multiprocessing import Pool, cpu_count\n",
    "from tools_class import *\n",
    "import convert_examples_to_features\n",
    "\n",
    "# OPTIONAL: if you want to have more information on what's happening, activate the logger as follows\n",
    "import logging\n",
    "logging.basicConfig(level=logging.INFO)\n",
    "\n",
    "device = torch.device(\"cuda\" if torch.cuda.is_available() else \"cpu\")"
   ]
  },
  {
   "cell_type": "code",
   "execution_count": 9,
   "metadata": {
    "cell_id": "3a2dda8829d04a15b3cfed3f54d4ba01",
    "deepnote_cell_type": "code",
    "deepnote_to_be_reexecuted": false,
    "execution_millis": 9,
    "execution_start": 1682702788887,
    "source_hash": "d693c4c2"
   },
   "outputs": [],
   "source": [
    "# The input data dir. Should contain the .tsv files (or other data files) for the task.\n",
    "DATA_DIR = \"data/\"\n",
    "\n",
    "# Bert pre-trained model selected in the list: bert-base-uncased, \n",
    "# bert-large-uncased, bert-base-cased, bert-large-cased, bert-base-multilingual-uncased,\n",
    "# bert-base-multilingual-cased, bert-base-chinese.\n",
    "BERT_MODEL = 'bert-base-cased'\n",
    "\n",
    "# The name of the task to train.I'm going to name this 'anli'.\n",
    "TASK_NAME = 'anli'\n",
    "\n",
    "# The output directory where the fine-tuned model and checkpoints will be written.\n",
    "OUTPUT_DIR = f'outputs/{TASK_NAME}/'\n",
    "\n",
    "# The directory where the evaluation reports will be written to.\n",
    "REPORTS_DIR = f'reports/{TASK_NAME}_evaluation_report/'\n",
    "\n",
    "# This is where BERT will look for pre-trained models to load parameters from.\n",
    "CACHE_DIR = 'cache/'\n",
    "\n",
    "# The maximum total input sequence length after WordPiece tokenization.\n",
    "# Sequences longer than this will be truncated, and sequences shorter than this will be padded.\n",
    "MAX_SEQ_LENGTH = 128\n",
    "\n",
    "TRAIN_BATCH_SIZE = 24\n",
    "EVAL_BATCH_SIZE = 32\n",
    "LEARNING_RATE = 2e-5\n",
    "NUM_TRAIN_EPOCHS = 1\n",
    "RANDOM_SEED = 42\n",
    "GRADIENT_ACCUMULATION_STEPS = 1\n",
    "WARMUP_PROPORTION = 0.1\n",
    "OUTPUT_MODE = 'classification'\n",
    "\n",
    "CONFIG_NAME = \"config.json\"\n",
    "WEIGHTS_NAME = \"pytorch_model.bin\""
   ]
  },
  {
   "cell_type": "code",
   "execution_count": 10,
   "metadata": {
    "cell_id": "b1b7f8311ed84df4878f88ead3fcab11",
    "deepnote_cell_type": "code",
    "deepnote_to_be_reexecuted": false,
    "execution_millis": 4,
    "execution_start": 1682702788900,
    "source_hash": "4070f305"
   },
   "outputs": [],
   "source": [
    "output_mode = OUTPUT_MODE\n",
    "\n",
    "cache_dir = CACHE_DIR"
   ]
  },
  {
   "cell_type": "code",
   "execution_count": 11,
   "metadata": {
    "cell_id": "31e93b5d0a6b4e189447b469472cfe7f",
    "deepnote_cell_type": "code",
    "deepnote_to_be_reexecuted": false,
    "execution_millis": 1,
    "execution_start": 1682702788911,
    "source_hash": "113d310d"
   },
   "outputs": [],
   "source": [
    "if os.path.exists(REPORTS_DIR) and os.listdir(REPORTS_DIR):\n",
    "        REPORTS_DIR += f'/report_{len(os.listdir(REPORTS_DIR))}'\n",
    "        os.makedirs(REPORTS_DIR)\n",
    "if not os.path.exists(REPORTS_DIR):\n",
    "    os.makedirs(REPORTS_DIR)\n",
    "    REPORTS_DIR += f'/report_{len(os.listdir(REPORTS_DIR))}'\n",
    "    os.makedirs(REPORTS_DIR)"
   ]
  },
  {
   "cell_type": "code",
   "execution_count": 12,
   "metadata": {
    "cell_id": "ae5488682f8d44f793fe81d3fc921743",
    "deepnote_cell_type": "code",
    "deepnote_to_be_reexecuted": false,
    "execution_millis": 2,
    "execution_start": 1682702788916,
    "source_hash": "b9be24b4"
   },
   "outputs": [],
   "source": [
    "if os.path.exists(OUTPUT_DIR) and os.listdir(OUTPUT_DIR):\n",
    "        raise ValueError(\"Output directory ({}) already exists and is not empty.\".format(OUTPUT_DIR))\n",
    "if not os.path.exists(OUTPUT_DIR):\n",
    "    os.makedirs(OUTPUT_DIR)"
   ]
  },
  {
   "cell_type": "code",
   "execution_count": 13,
   "metadata": {
    "cell_id": "2b0c651467b3474cb412a45dcca979d2",
    "deepnote_cell_type": "code",
    "deepnote_to_be_reexecuted": false,
    "execution_millis": 384,
    "execution_start": 1682702788926,
    "source_hash": "d4595eda"
   },
   "outputs": [],
   "source": [
    "processor = BinaryClassificationProcessor()\n",
    "train_examples = processor.get_train_examples(DATA_DIR)\n",
    "train_examples_len = len(train_examples)"
   ]
  },
  {
   "cell_type": "code",
   "execution_count": 14,
   "metadata": {
    "cell_id": "70747c396e0e4ee99b88b949226348e9",
    "deepnote_cell_type": "code",
    "deepnote_to_be_reexecuted": false,
    "execution_millis": 33,
    "execution_start": 1682702789300,
    "source_hash": "c74a0197"
   },
   "outputs": [],
   "source": [
    "label_list = processor.get_labels() # [0, 1] for binary classification\n",
    "num_labels = len(label_list)"
   ]
  },
  {
   "cell_type": "code",
   "execution_count": 15,
   "metadata": {
    "cell_id": "7ff34e13bc434af58cc65a646f991518",
    "deepnote_cell_type": "code",
    "deepnote_to_be_reexecuted": false,
    "execution_millis": 21,
    "execution_start": 1682702789313,
    "source_hash": "182044dc"
   },
   "outputs": [],
   "source": [
    "num_train_optimization_steps = int(\n",
    "    train_examples_len / TRAIN_BATCH_SIZE / GRADIENT_ACCUMULATION_STEPS) * NUM_TRAIN_EPOCHS"
   ]
  },
  {
   "cell_type": "code",
   "execution_count": 16,
   "metadata": {
    "cell_id": "42bd5f73c6594bba8b24d1277c2c6eac",
    "deepnote_cell_type": "code",
    "deepnote_to_be_reexecuted": false,
    "execution_millis": 133,
    "execution_start": 1682702789329,
    "source_hash": "f679bce1"
   },
   "outputs": [
    {
     "name": "stderr",
     "output_type": "stream",
     "text": [
      "INFO:pytorch_pretrained_bert.tokenization:loading vocabulary file https://s3.amazonaws.com/models.huggingface.co/bert/bert-base-cased-vocab.txt from cache at C:\\Users\\Zachary\\.pytorch_pretrained_bert\\5e8a2b4893d13790ed4150ca1906be5f7a03d6c4ddf62296c383f6db42814db2.e13dbb970cb325137104fb2e5f36fe865f27746c6b526f6352861b1980eb80b1\n"
     ]
    }
   ],
   "source": [
    "# Load pre-trained model tokenizer (vocabulary)\n",
    "tokenizer = BertTokenizer.from_pretrained('bert-base-cased', do_lower_case=False)"
   ]
  },
  {
   "cell_type": "code",
   "execution_count": 17,
   "metadata": {
    "cell_id": "f365d1d2886540f4a72c4ac277fb1ea3",
    "deepnote_cell_type": "code",
    "deepnote_to_be_reexecuted": false,
    "execution_millis": 46,
    "execution_start": 1682702789475,
    "source_hash": "1aa28456"
   },
   "outputs": [],
   "source": [
    "label_map = {label: i for i, label in enumerate(label_list)}\n",
    "train_examples_for_processing = [(example, label_map, MAX_SEQ_LENGTH, tokenizer, OUTPUT_MODE) for example in train_examples]"
   ]
  },
  {
   "cell_type": "code",
   "execution_count": 18,
   "metadata": {
    "cell_id": "7e9b46811554453a8f8795ae844f99b9",
    "deepnote_cell_type": "code",
    "deepnote_to_be_reexecuted": false,
    "execution_millis": 664168,
    "execution_start": 1682702789520,
    "source_hash": "da9266cc"
   },
   "outputs": [
    {
     "name": "stdout",
     "output_type": "stream",
     "text": [
      "Preparing to convert 16946 examples..\n",
      "Spawning 7 processes..\n"
     ]
    },
    {
     "name": "stderr",
     "output_type": "stream",
     "text": [
      "C:\\Users\\Zachary\\AppData\\Local\\Temp\\ipykernel_8832\\24497431.py:6: TqdmDeprecationWarning: This function will be removed in tqdm==5.0.0\n",
      "Please use `tqdm.notebook.tqdm` instead of `tqdm.tqdm_notebook`\n",
      "  train_features = list(tqdm_notebook(p.imap(convert_examples_to_features.convert_example_to_feature, train_examples_for_processing), total=train_examples_len))\n"
     ]
    },
    {
     "data": {
      "application/vnd.jupyter.widget-view+json": {
       "model_id": "8d9bc3b0942e4e3cb8c66707f913a64d",
       "version_major": 2,
       "version_minor": 0
      },
      "text/plain": [
       "  0%|          | 0/16946 [00:00<?, ?it/s]"
      ]
     },
     "metadata": {},
     "output_type": "display_data"
    }
   ],
   "source": [
    "process_count = cpu_count() - 1\n",
    "if __name__ ==  '__main__':\n",
    "    print(f'Preparing to convert {train_examples_len} examples..')\n",
    "    print(f'Spawning {process_count} processes..')\n",
    "    with Pool(process_count) as p:\n",
    "        train_features = list(tqdm_notebook(p.imap(convert_examples_to_features.convert_example_to_feature, train_examples_for_processing), total=train_examples_len))"
   ]
  },
  {
   "cell_type": "code",
   "execution_count": 19,
   "metadata": {
    "cell_id": "ec303612876d4050a8235cf4996e595b",
    "deepnote_cell_type": "code",
    "deepnote_to_be_reexecuted": false,
    "execution_millis": 268,
    "execution_start": 1682703453731,
    "source_hash": "bbcdbd5f"
   },
   "outputs": [],
   "source": [
    "with open(DATA_DIR + \"train_features.pkl\", \"wb\") as f:\n",
    "    pickle.dump(train_features, f)"
   ]
  },
  {
   "cell_type": "code",
   "execution_count": 20,
   "metadata": {
    "cell_id": "cbc82e8674324f62ae61a3d688d71f2b",
    "deepnote_cell_type": "code",
    "deepnote_to_be_reexecuted": false,
    "execution_millis": 8655,
    "execution_start": 1682703453991,
    "source_hash": "598660f0"
   },
   "outputs": [
    {
     "name": "stderr",
     "output_type": "stream",
     "text": [
      "INFO:pytorch_pretrained_bert.file_utils:https://s3.amazonaws.com/models.huggingface.co/bert/bert-base-cased.tar.gz not found in cache, downloading to C:\\Users\\Zachary\\AppData\\Local\\Temp\\tmp2ws9v6e2\n",
      "100%|████████████████████████████████████████████████████████████████| 404400730/404400730 [05:44<00:00, 1175354.95B/s]\n",
      "INFO:pytorch_pretrained_bert.file_utils:copying C:\\Users\\Zachary\\AppData\\Local\\Temp\\tmp2ws9v6e2 to cache at cache/a803ce83ca27fecf74c355673c434e51c265fb8a3e0e57ac62a80e38ba98d384.681017f415dfb33ec8d0e04fe51a619f3f01532ecea04edbfd48c5d160550d9c\n",
      "INFO:pytorch_pretrained_bert.file_utils:creating metadata file for cache/a803ce83ca27fecf74c355673c434e51c265fb8a3e0e57ac62a80e38ba98d384.681017f415dfb33ec8d0e04fe51a619f3f01532ecea04edbfd48c5d160550d9c\n",
      "INFO:pytorch_pretrained_bert.file_utils:removing temp file C:\\Users\\Zachary\\AppData\\Local\\Temp\\tmp2ws9v6e2\n",
      "INFO:pytorch_pretrained_bert.modeling:loading archive file https://s3.amazonaws.com/models.huggingface.co/bert/bert-base-cased.tar.gz from cache at cache/a803ce83ca27fecf74c355673c434e51c265fb8a3e0e57ac62a80e38ba98d384.681017f415dfb33ec8d0e04fe51a619f3f01532ecea04edbfd48c5d160550d9c\n",
      "INFO:pytorch_pretrained_bert.modeling:extracting archive file cache/a803ce83ca27fecf74c355673c434e51c265fb8a3e0e57ac62a80e38ba98d384.681017f415dfb33ec8d0e04fe51a619f3f01532ecea04edbfd48c5d160550d9c to temp dir C:\\Users\\Zachary\\AppData\\Local\\Temp\\tmp5_e2igsj\n",
      "INFO:pytorch_pretrained_bert.modeling:Model config {\n",
      "  \"attention_probs_dropout_prob\": 0.1,\n",
      "  \"hidden_act\": \"gelu\",\n",
      "  \"hidden_dropout_prob\": 0.1,\n",
      "  \"hidden_size\": 768,\n",
      "  \"initializer_range\": 0.02,\n",
      "  \"intermediate_size\": 3072,\n",
      "  \"max_position_embeddings\": 512,\n",
      "  \"num_attention_heads\": 12,\n",
      "  \"num_hidden_layers\": 12,\n",
      "  \"type_vocab_size\": 2,\n",
      "  \"vocab_size\": 28996\n",
      "}\n",
      "\n",
      "INFO:pytorch_pretrained_bert.modeling:Weights of BertForSequenceClassification not initialized from pretrained model: ['classifier.weight', 'classifier.bias']\n",
      "INFO:pytorch_pretrained_bert.modeling:Weights from pretrained model not used in BertForSequenceClassification: ['cls.predictions.bias', 'cls.predictions.transform.dense.weight', 'cls.predictions.transform.dense.bias', 'cls.predictions.decoder.weight', 'cls.seq_relationship.weight', 'cls.seq_relationship.bias', 'cls.predictions.transform.LayerNorm.weight', 'cls.predictions.transform.LayerNorm.bias']\n"
     ]
    }
   ],
   "source": [
    "# Load pre-trained model (weights)\n",
    "model = BertForSequenceClassification.from_pretrained(BERT_MODEL, cache_dir=CACHE_DIR, num_labels=num_labels)\n",
    "# model = BertForSequenceClassification.from_pretrained(CACHE_DIR + 'cased_base_bert_pytorch.tar.gz', cache_dir=CACHE_DIR, num_labels=num_labels)"
   ]
  },
  {
   "cell_type": "code",
   "execution_count": 21,
   "metadata": {
    "cell_id": "6eb2315c9da440148a122f94fbf92266",
    "deepnote_cell_type": "code",
    "deepnote_to_be_reexecuted": false,
    "execution_millis": 16,
    "execution_start": 1682703462650,
    "source_hash": "2241cfbb"
   },
   "outputs": [
    {
     "data": {
      "text/plain": [
       "BertForSequenceClassification(\n",
       "  (bert): BertModel(\n",
       "    (embeddings): BertEmbeddings(\n",
       "      (word_embeddings): Embedding(28996, 768, padding_idx=0)\n",
       "      (position_embeddings): Embedding(512, 768)\n",
       "      (token_type_embeddings): Embedding(2, 768)\n",
       "      (LayerNorm): BertLayerNorm()\n",
       "      (dropout): Dropout(p=0.1, inplace=False)\n",
       "    )\n",
       "    (encoder): BertEncoder(\n",
       "      (layer): ModuleList(\n",
       "        (0-11): 12 x BertLayer(\n",
       "          (attention): BertAttention(\n",
       "            (self): BertSelfAttention(\n",
       "              (query): Linear(in_features=768, out_features=768, bias=True)\n",
       "              (key): Linear(in_features=768, out_features=768, bias=True)\n",
       "              (value): Linear(in_features=768, out_features=768, bias=True)\n",
       "              (dropout): Dropout(p=0.1, inplace=False)\n",
       "            )\n",
       "            (output): BertSelfOutput(\n",
       "              (dense): Linear(in_features=768, out_features=768, bias=True)\n",
       "              (LayerNorm): BertLayerNorm()\n",
       "              (dropout): Dropout(p=0.1, inplace=False)\n",
       "            )\n",
       "          )\n",
       "          (intermediate): BertIntermediate(\n",
       "            (dense): Linear(in_features=768, out_features=3072, bias=True)\n",
       "          )\n",
       "          (output): BertOutput(\n",
       "            (dense): Linear(in_features=3072, out_features=768, bias=True)\n",
       "            (LayerNorm): BertLayerNorm()\n",
       "            (dropout): Dropout(p=0.1, inplace=False)\n",
       "          )\n",
       "        )\n",
       "      )\n",
       "    )\n",
       "    (pooler): BertPooler(\n",
       "      (dense): Linear(in_features=768, out_features=768, bias=True)\n",
       "      (activation): Tanh()\n",
       "    )\n",
       "  )\n",
       "  (dropout): Dropout(p=0.1, inplace=False)\n",
       "  (classifier): Linear(in_features=768, out_features=2, bias=True)\n",
       ")"
      ]
     },
     "execution_count": 21,
     "metadata": {},
     "output_type": "execute_result"
    }
   ],
   "source": [
    "model.to(device)"
   ]
  },
  {
   "cell_type": "code",
   "execution_count": 22,
   "metadata": {
    "cell_id": "cafc6da5c53147c7a9fbc0f8edfc1763",
    "deepnote_cell_type": "code",
    "deepnote_to_be_reexecuted": false,
    "execution_millis": 118,
    "execution_start": 1682703462687,
    "source_hash": "6c2ddc85"
   },
   "outputs": [],
   "source": [
    "param_optimizer = list(model.named_parameters())\n",
    "no_decay = ['bias', 'LayerNorm.bias', 'LayerNorm.weight']\n",
    "optimizer_grouped_parameters = [\n",
    "    {'params': [p for n, p in param_optimizer if not any(nd in n for nd in no_decay)], 'weight_decay': 0.01},\n",
    "    {'params': [p for n, p in param_optimizer if any(nd in n for nd in no_decay)], 'weight_decay': 0.0}\n",
    "    ]"
   ]
  },
  {
   "cell_type": "code",
   "execution_count": 23,
   "metadata": {
    "cell_id": "944d41fcb9c24dd88c44cd28f38b8eba",
    "deepnote_cell_type": "code",
    "deepnote_to_be_reexecuted": false,
    "execution_millis": 106,
    "execution_start": 1682703462699,
    "source_hash": "86b43b0b"
   },
   "outputs": [],
   "source": [
    "optimizer = BertAdam(optimizer_grouped_parameters,\n",
    "                     lr=LEARNING_RATE,\n",
    "                     warmup=WARMUP_PROPORTION,\n",
    "                     t_total=num_train_optimization_steps)"
   ]
  },
  {
   "cell_type": "code",
   "execution_count": 24,
   "metadata": {
    "cell_id": "bfd689f62b5740b4a2b6a14ff8c555c7",
    "deepnote_cell_type": "code",
    "deepnote_to_be_reexecuted": false,
    "execution_millis": 58,
    "execution_start": 1682703462748,
    "source_hash": "9df700f0"
   },
   "outputs": [],
   "source": [
    "global_step = 0\n",
    "nb_tr_steps = 0\n",
    "tr_loss = 0"
   ]
  },
  {
   "cell_type": "code",
   "execution_count": 25,
   "metadata": {
    "cell_id": "dae3e794af174cd482a1c47893816931",
    "deepnote_cell_type": "code",
    "deepnote_to_be_reexecuted": false,
    "execution_millis": 191,
    "execution_start": 1682703462748,
    "source_hash": "12bd8cc5"
   },
   "outputs": [
    {
     "name": "stderr",
     "output_type": "stream",
     "text": [
      "INFO:root:***** Running training *****\n",
      "INFO:root:  Num examples = 16946\n",
      "INFO:root:  Batch size = 24\n",
      "INFO:root:  Num steps = 706\n"
     ]
    }
   ],
   "source": [
    "logger.info(\"***** Running training *****\")\n",
    "logger.info(\"  Num examples = %d\", train_examples_len)\n",
    "logger.info(\"  Batch size = %d\", TRAIN_BATCH_SIZE)\n",
    "logger.info(\"  Num steps = %d\", num_train_optimization_steps)\n",
    "all_input_ids = torch.tensor([f.input_ids for f in train_features], dtype=torch.long)\n",
    "all_input_mask = torch.tensor([f.input_mask for f in train_features], dtype=torch.long)\n",
    "all_segment_ids = torch.tensor([f.segment_ids for f in train_features], dtype=torch.long)\n",
    "\n",
    "if OUTPUT_MODE == \"classification\":\n",
    "    all_label_ids = torch.tensor([f.label_id for f in train_features], dtype=torch.long)\n",
    "elif OUTPUT_MODE == \"regression\":\n",
    "    all_label_ids = torch.tensor([f.label_id for f in train_features], dtype=torch.float)"
   ]
  },
  {
   "cell_type": "code",
   "execution_count": 26,
   "metadata": {
    "cell_id": "caf72cab6cad4507a323387b175f7d15",
    "deepnote_cell_type": "code",
    "deepnote_to_be_reexecuted": false,
    "execution_millis": 4,
    "execution_start": 1682703462941,
    "source_hash": "e658a15a"
   },
   "outputs": [],
   "source": [
    "train_data = TensorDataset(all_input_ids, all_input_mask, all_segment_ids, all_label_ids)\n",
    "train_sampler = RandomSampler(train_data)\n",
    "train_dataloader = DataLoader(train_data, sampler=train_sampler, batch_size=TRAIN_BATCH_SIZE)"
   ]
  },
  {
   "cell_type": "code",
   "execution_count": 27,
   "metadata": {
    "cell_id": "f50648e460564874bdc7982e4bb4b268",
    "deepnote_cell_type": "code",
    "deepnote_to_be_reexecuted": false,
    "execution_millis": 817,
    "execution_start": 1682703715194,
    "source_hash": "3f995d19"
   },
   "outputs": [
    {
     "name": "stderr",
     "output_type": "stream",
     "text": [
      "Epoch:   0%|                                                                                     | 0/1 [00:00<?, ?it/s]C:\\Users\\Zachary\\AppData\\Local\\Temp\\ipykernel_8832\\4038026767.py:5: TqdmDeprecationWarning: This function will be removed in tqdm==5.0.0\n",
      "Please use `tqdm.notebook.tqdm` instead of `tqdm.tqdm_notebook`\n",
      "  for step, batch in enumerate(tqdm_notebook(train_dataloader, desc=\"Iteration\")):\n"
     ]
    },
    {
     "data": {
      "application/vnd.jupyter.widget-view+json": {
       "model_id": "ca2a5e40913f4921a0b0ec8ff4396907",
       "version_major": 2,
       "version_minor": 0
      },
      "text/plain": [
       "Iteration:   0%|          | 0/707 [00:00<?, ?it/s]"
      ]
     },
     "metadata": {},
     "output_type": "display_data"
    },
    {
     "name": "stdout",
     "output_type": "stream",
     "text": [
      "0.577619"
     ]
    },
    {
     "name": "stderr",
     "output_type": "stream",
     "text": [
      "C:\\Users\\Zachary\\anaconda3\\lib\\site-packages\\pytorch_pretrained_bert\\optimization.py:275: UserWarning: This overload of add_ is deprecated:\n",
      "\tadd_(Number alpha, Tensor other)\n",
      "Consider using one of the following signatures instead:\n",
      "\tadd_(Tensor other, *, Number alpha) (Triggered internally at C:\\actions-runner\\_work\\pytorch\\pytorch\\builder\\windows\\pytorch\\torch\\csrc\\utils\\python_arg_parser.cpp:1485.)\n",
      "  next_m.mul_(beta1).add_(1 - beta1, grad)\n"
     ]
    },
    {
     "name": "stdout",
     "output_type": "stream",
     "text": [
      "0.713062"
     ]
    },
    {
     "name": "stderr",
     "output_type": "stream",
     "text": [
      "Epoch: 100%|████████████████████████████████████████████████████████████████████████| 1/1 [4:27:35<00:00, 16055.32s/it]\n"
     ]
    }
   ],
   "source": [
    "model.train()\n",
    "for _ in trange(int(NUM_TRAIN_EPOCHS), desc=\"Epoch\"):\n",
    "    tr_loss = 0\n",
    "    nb_tr_examples, nb_tr_steps = 0, 0\n",
    "    for step, batch in enumerate(tqdm_notebook(train_dataloader, desc=\"Iteration\")):\n",
    "        batch = tuple(t.to(device) for t in batch)\n",
    "        input_ids, input_mask, segment_ids, label_ids = batch\n",
    "\n",
    "        logits = model(input_ids, segment_ids, input_mask, labels=None)\n",
    "\n",
    "        if OUTPUT_MODE == \"classification\":\n",
    "            loss_fct = CrossEntropyLoss()\n",
    "            loss = loss_fct(logits.view(-1, num_labels), label_ids.view(-1))\n",
    "        elif OUTPUT_MODE == \"regression\":\n",
    "            loss_fct = MSELoss()\n",
    "            loss = loss_fct(logits.view(-1), label_ids.view(-1))\n",
    "\n",
    "        if GRADIENT_ACCUMULATION_STEPS > 1:\n",
    "            loss = loss / GRADIENT_ACCUMULATION_STEPS\n",
    "\n",
    "        loss.backward()\n",
    "        print(\"\\r%f\" % loss, end='')\n",
    "        \n",
    "        tr_loss += loss.item()\n",
    "        nb_tr_examples += input_ids.size(0)\n",
    "        nb_tr_steps += 1\n",
    "        if (step + 1) % GRADIENT_ACCUMULATION_STEPS == 0:\n",
    "            optimizer.step()\n",
    "            optimizer.zero_grad()\n",
    "            global_step += 1"
   ]
  },
  {
   "cell_type": "code",
   "execution_count": 28,
   "metadata": {
    "cell_id": "2e537dbf48db40a590afe05f61a67aa4",
    "deepnote_cell_type": "code",
    "deepnote_to_be_reexecuted": true,
    "source_hash": "ec47b7d9"
   },
   "outputs": [
    {
     "data": {
      "text/plain": [
       "'outputs/anli/vocab.txt'"
      ]
     },
     "execution_count": 28,
     "metadata": {},
     "output_type": "execute_result"
    }
   ],
   "source": [
    "model_to_save = model.module if hasattr(model, 'module') else model  # Only save the model it-self\n",
    "\n",
    "# If we save using the predefined names, we can load using `from_pretrained`\n",
    "output_model_file = os.path.join(OUTPUT_DIR, WEIGHTS_NAME)\n",
    "output_config_file = os.path.join(OUTPUT_DIR, CONFIG_NAME)\n",
    "\n",
    "torch.save(model_to_save.state_dict(), output_model_file)\n",
    "model_to_save.config.to_json_file(output_config_file)\n",
    "tokenizer.save_vocabulary(OUTPUT_DIR)"
   ]
  },
  {
   "cell_type": "markdown",
   "metadata": {
    "cell_id": "c8bdc978b5174bcca00e43c151fe3c14",
    "deepnote_cell_type": "text-cell-p",
    "formattedRanges": [
     {
      "fromCodePoint": 0,
      "ranges": [],
      "toCodePoint": 55,
      "type": "link",
      "url": "https://pytorch.org/docs/stable/nn.html#torch.nn.Module"
     }
    ]
   },
   "source": [
    "https://pytorch.org/docs/stable/nn.html#torch.nn.Module"
   ]
  },
  {
   "cell_type": "markdown",
   "metadata": {
    "cell_id": "b3f75ba4-3f76-4018-a3a7-0b12b965948b",
    "deepnote_cell_type": "text-cell-p",
    "formattedRanges": [
     {
      "fromCodePoint": 0,
      "ranges": [],
      "toCodePoint": 55,
      "type": "link",
      "url": "https://huggingface.co/docs/transformers/model_doc/bert"
     }
    ]
   },
   "source": [
    "https://huggingface.co/docs/transformers/model_doc/bert"
   ]
  },
  {
   "cell_type": "markdown",
   "metadata": {
    "cell_id": "bf2c1765-6bcd-42de-ac63-376adfae356e",
    "deepnote_cell_type": "text-cell-p",
    "formattedRanges": [
     {
      "fromCodePoint": 0,
      "ranges": [],
      "toCodePoint": 99,
      "type": "link",
      "url": "https://huggingface.co/docs/transformers/v4.28.1/en/main_classes/model#transformers.PreTrainedModel"
     }
    ]
   },
   "source": [
    "https://huggingface.co/docs/transformers/v4.28.1/en/main_classes/model#transformers.PreTrainedModel"
   ]
  },
  {
   "cell_type": "markdown",
   "metadata": {
    "created_in_deepnote_cell": true,
    "deepnote_cell_type": "markdown"
   },
   "source": [
    "<a style='text-decoration:none;line-height:16px;display:flex;color:#5B5B62;padding:10px;justify-content:end;' href='https://deepnote.com?utm_source=created-in-deepnote-cell&projectId=ef800559-4ff5-4f9a-a563-f7fcfd96a58b' target=\"_blank\">\n",
    "<img alt='Created in deepnote.com' style='display:inline;max-height:16px;margin:0px;margin-right:7.5px;' src='data:image/svg+xml;base64,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' > </img>\n",
    "Created in <span style='font-weight:600;margin-left:4px;'>Deepnote</span></a>"
   ]
  }
 ],
 "metadata": {
  "deepnote": {},
  "deepnote_execution_queue": [],
  "deepnote_notebook_id": "5613b4e5218745c38930a12268f80436",
  "kernelspec": {
   "display_name": "Python 3 (ipykernel)",
   "language": "python",
   "name": "python3"
  },
  "language_info": {
   "codemirror_mode": {
    "name": "ipython",
    "version": 3
   },
   "file_extension": ".py",
   "mimetype": "text/x-python",
   "name": "python",
   "nbconvert_exporter": "python",
   "pygments_lexer": "ipython3",
   "version": "3.11.0"
  }
 },
 "nbformat": 4,
 "nbformat_minor": 4
}
